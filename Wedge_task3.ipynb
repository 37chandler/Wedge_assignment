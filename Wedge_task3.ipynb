{
 "cells": [
  {
   "cell_type": "code",
   "execution_count": 9,
   "metadata": {},
   "outputs": [],
   "source": [
    "import pandas as pd\n",
    "import pandas_gbq\n",
    "from pandas.io import gbq\n",
    "from google.cloud import bigquery\n",
    "from google.oauth2 import service_account\n",
    "import sqlite3"
   ]
  },
  {
   "cell_type": "code",
   "execution_count": 10,
   "metadata": {},
   "outputs": [],
   "source": [
    "# These first two values will be different on your machine. \n",
    "service_path = \"/Users/liamhettinger/Documents/Fall_MSBA/Applied_Data_Analytics/wedge/\"\n",
    "service_file = 'fleet-geode-327423-3bd2c958746e.json' # change this to your authentication information  \n",
    "gbq_proj_id = 'fleet-geode-327423' # change this to your poroject. \n",
    "gbq_dataset_id = 'Wedge'\n",
    "\n",
    "# And this should stay the same. \n",
    "private_key = service_path + service_file"
   ]
  },
  {
   "cell_type": "code",
   "execution_count": 11,
   "metadata": {},
   "outputs": [],
   "source": [
    "credentials = service_account.Credentials.from_service_account_file(service_path + service_file)"
   ]
  },
  {
   "cell_type": "code",
   "execution_count": 12,
   "metadata": {},
   "outputs": [],
   "source": [
    "client = bigquery.Client(credentials = credentials, project=gbq_proj_id)"
   ]
  },
  {
   "cell_type": "code",
   "execution_count": 15,
   "metadata": {},
   "outputs": [],
   "source": [
    "table_ref = client.create_table(table = 'fleet-geode-327423.Wedge.SalesByHour')"
   ]
  },
  {
   "cell_type": "code",
   "execution_count": 16,
   "metadata": {},
   "outputs": [],
   "source": [
    "sql1 =\"\"\"\n",
    "SELECT\n",
    "  EXTRACT(date FROM datetime) AS day,\n",
    "  EXTRACT(hour FROM datetime) AS hour,\n",
    "  SUM(total) AS sales,\n",
    "  count(distinct(date(datetime) || register_no || emp_no || trans_no)) as transactions,\n",
    "  sum(CASE WHEN (trans_status = 'V' or trans_status = 'R') \n",
    "  THEN \n",
    "  -1 \n",
    "  ELSE \n",
    "  1 \n",
    "  END) as item_quantity\n",
    "FROM\n",
    "  `fleet-geode-327423.Wedge.transArchive*`\n",
    "WHERE department != 0 and\n",
    "      department != 15 and\n",
    "      trans_status != 'M' and\n",
    "      trans_status != 'C' and\n",
    "      trans_status != 'J' and\n",
    "      (trans_status = '' or \n",
    "      trans_status = ' ' or \n",
    "      trans_status = 'V' or \n",
    "      trans_status = 'R')\n",
    "GROUP BY\n",
    "  day, hour\n",
    "ORDER BY\n",
    "  day, hour\n",
    "\"\"\""
   ]
  },
  {
   "cell_type": "code",
   "execution_count": 17,
   "metadata": {},
   "outputs": [
    {
     "name": "stderr",
     "output_type": "stream",
     "text": [
      "Downloading: 100%|██████████| 39097/39097 [00:02<00:00, 13163.36rows/s]\n"
     ]
    }
   ],
   "source": [
    "SalesByHour = pandas_gbq.read_gbq(sql1, project_id=gbq_proj_id)"
   ]
  },
  {
   "cell_type": "code",
   "execution_count": 18,
   "metadata": {},
   "outputs": [],
   "source": [
    "table_ref = client.create_table(table = 'fleet-geode-327423.Wedge.Salesbyownerbyyearbymonth')"
   ]
  },
  {
   "cell_type": "code",
   "execution_count": 19,
   "metadata": {},
   "outputs": [],
   "source": [
    "sql2 = \"\"\"SELECT\n",
    "  card_no,\n",
    "  EXTRACT(MONTH from datetime) AS month,\n",
    "  EXTRACT(YEAR from datetime) AS year,\n",
    "  SUM(total) AS sales,\n",
    "  COUNT(DISTINCT(DATE(datetime) || register_no || emp_no || trans_no)) AS transactions,\n",
    "  SUM(CASE WHEN (trans_status = 'V' or trans_status = 'R') \n",
    "  THEN \n",
    "  -1 \n",
    "  ELSE \n",
    "  1 \n",
    "  END) as item_quantity\n",
    "FROM\n",
    "  `fleet-geode-327423.Wedge.transArchive_*`\n",
    "WHERE\n",
    "  department != 0\n",
    "  AND department != 15\n",
    "  AND trans_status != 'M'\n",
    "  AND trans_status != 'C'\n",
    "  AND trans_status != 'J'\n",
    "  AND (trans_status = ''\n",
    "    OR trans_status = ' '\n",
    "    OR trans_status = 'V'\n",
    "    OR trans_status = 'R')\n",
    "GROUP BY\n",
    "  card_no,\n",
    "  month,\n",
    "  year\n",
    "ORDER BY\n",
    "  card_no,\n",
    "  month,\n",
    "  year\"\"\""
   ]
  },
  {
   "cell_type": "code",
   "execution_count": 20,
   "metadata": {},
   "outputs": [
    {
     "name": "stderr",
     "output_type": "stream",
     "text": [
      "Downloading: 100%|██████████| 783240/783240 [00:31<00:00, 25258.98rows/s]\n"
     ]
    }
   ],
   "source": [
    "Salesbyownerbyyearbymonth = pandas_gbq.read_gbq(sql2, project_id=gbq_proj_id)"
   ]
  },
  {
   "cell_type": "markdown",
   "metadata": {},
   "source": [
    "Manually created the department look-up page"
   ]
  },
  {
   "cell_type": "code",
   "execution_count": null,
   "metadata": {},
   "outputs": [],
   "source": [
    "sql3 = \"\"\"\n",
    "SELECT\n",
    "  upc,\n",
    "  description,\n",
    "  trans.department,\n",
    "  dept.department_name,\n",
    "  EXTRACT(MONTH from datetime) AS month,\n",
    "  EXTRACT(YEAR from datetime) AS year,\n",
    "  SUM(total) AS sales,\n",
    "  COUNT(DISTINCT(DATE(datetime) || register_no || emp_no || trans_no)) AS transactions,\n",
    "  SUM(CASE WHEN (trans_status = 'V' or trans_status = 'R') \n",
    "  THEN \n",
    "  -1 \n",
    "  ELSE \n",
    "  1 \n",
    "  END) as item_quantity\n",
    "  FROM\n",
    "      `fleet-geode-327423.Wedge.transArchive_*` as trans \n",
    "  LEFT JOIN\n",
    "      fleet-geode-327423.Wedge.Department_lookup as dept on trans.department = dept.department\n",
    "  WHERE\n",
    "  trans.department != 0\n",
    "  AND trans.department != 15\n",
    "  AND trans_status != 'M'\n",
    "  AND trans_status != 'C'\n",
    "  AND trans_status != 'J'\n",
    "  AND (trans_status = ''\n",
    "    OR trans_status = ' '\n",
    "    OR trans_status = 'V'\n",
    "    OR trans_status = 'R')\n",
    "  GROUP BY\n",
    "      upc,\n",
    "      description,\n",
    "      department,\n",
    "      year,\n",
    "      month\n",
    "  ORDER BY\n",
    "      year,\n",
    "      month\n",
    "  \"\"\""
   ]
  },
  {
   "cell_type": "code",
   "execution_count": null,
   "metadata": {},
   "outputs": [],
   "source": [
    "SalesByProductDescriptionByYearByMonth = pandas_gbq.read_gbq(sql2, project_id=gbq_proj_id)"
   ]
  },
  {
   "cell_type": "code",
   "execution_count": 21,
   "metadata": {},
   "outputs": [],
   "source": [
    "import sqlite3"
   ]
  },
  {
   "cell_type": "code",
   "execution_count": 22,
   "metadata": {},
   "outputs": [],
   "source": [
    "database = sqlite3.connect(\"Wedge_SQL_DB.db\")\n",
    "SalesByHour.to_sql(\"SalesByHour\", database, if_exists=\"replace\")\n",
    "Salesbyownerbyyearbymonth.to_sql(\"SalesByOwnerByYearByMonth\", database, if_exists=\"replace\")\n",
    "#SalesByProductDescriptionByYearByMonth.to_sql(\"SalesByProductDescriptionByYearByMonth\", database, if_exists=\"replace\")"
   ]
  },
  {
   "cell_type": "code",
   "execution_count": 23,
   "metadata": {},
   "outputs": [],
   "source": [
    "database.close()"
   ]
  },
  {
   "cell_type": "code",
   "execution_count": 2,
   "metadata": {},
   "outputs": [],
   "source": []
  },
  {
   "cell_type": "markdown",
   "metadata": {},
   "source": [
    "References:\n",
    "https://pandas.pydata.org/docs/reference/api/pandas.DataFrame.to_sql.html\n",
    "\n",
    "https://pandas.pydata.org/docs/reference/api/pandas.DataFrame.to_gbq.html\n",
    "\n",
    "https://pandas.pydata.org/docs/reference/api/pandas.read_gbq.html"
   ]
  },
  {
   "cell_type": "code",
   "execution_count": null,
   "metadata": {},
   "outputs": [],
   "source": []
  }
 ],
 "metadata": {
  "kernelspec": {
   "display_name": "Python 3",
   "language": "python",
   "name": "python3"
  },
  "language_info": {
   "codemirror_mode": {
    "name": "ipython",
    "version": 3
   },
   "file_extension": ".py",
   "mimetype": "text/x-python",
   "name": "python",
   "nbconvert_exporter": "python",
   "pygments_lexer": "ipython3",
   "version": "3.8.5"
  }
 },
 "nbformat": 4,
 "nbformat_minor": 4
}
