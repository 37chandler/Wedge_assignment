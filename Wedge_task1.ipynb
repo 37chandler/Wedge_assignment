{
 "cells": [
  {
   "cell_type": "code",
   "execution_count": 18,
   "metadata": {},
   "outputs": [],
   "source": [
    "import zipfile\n",
    "import os \n",
    "from zipfile import ZipFile\n",
    "import io\n",
    "import pandas as pd\n",
    "from itertools import groupby"
   ]
  },
  {
   "cell_type": "code",
   "execution_count": 19,
   "metadata": {},
   "outputs": [],
   "source": [
    "one_column = ['transArchive_201301_201303_inactive.zip', #everything is in the last column\n",
    "              'transArchive_201404_201406_inactive.zip', #everything is in the last column\n",
    "              'transArchive_201210_201212_inactive.zip', #everything is in the last column\n",
    "              'transArchive_201307_201309_inactive.zip', #everything is in the last column\n",
    "              'transArchive_201204_201206_inactive.zip', #everything is in the last column\n",
    "              'transArchive_201410_201412_inactive.zip', #everything is in the last column\n",
    "              'transArchive_201310_201312_inactive.zip', #everything is in the last column\n",
    "              'transArchive_201201_201203_inactive.zip', #everything is in the last column\n",
    "              'transArchive_201407_201409_inactive.zip', #everything is in the last column\n",
    "              'transArchive_201304_201306_inactive.zip', #everything is in the last column\n",
    "              'transArchive_201207_201209_inactive.zip',\n",
    "              'transArchive_201401_201403_inactive.zip']\n",
    "\n",
    "no_headers = ['transArchive_201609.zip', #no column headers\n",
    "              'transArchive_201608.zip',#no column headers\n",
    "              'transArchive_201701.zip', #no column headers\n",
    "              'transArchive_201511.zip', #no column headers\n",
    "              'transArchive_201512.zip', #no column headers\n",
    "              'transArchive_201603.zip', #no column headers\n",
    "              'transArchive_201602.zip', #no column headers\n",
    "              'transArchive_201601.zip',\n",
    "              'transArchive_201605.zip',\n",
    "              'transArchive_201611.zip',\n",
    "              'transArchive_201610.zip',\n",
    "              'transArchive_201604.zip',\n",
    "              'transArchive_201612.zip',\n",
    "              'transArchive_201606.zip',\n",
    "              'transArchive_201607.zip']"
   ]
  },
  {
   "cell_type": "code",
   "execution_count": 20,
   "metadata": {},
   "outputs": [],
   "source": [
    "converted_dic = {'datetime': str, # needs to be time series\n",
    "                \"register_no\": float,\n",
    "                \"emp_no\": float,\n",
    "                \"trans_no\": float,\n",
    "                \"upc\": str,\n",
    "                \"description\": str,\n",
    "                \"trans_type\": str,\n",
    "                \"trans_subtype\": str,\n",
    "                \"trans_status\": str,\n",
    "                \"department\": float,\n",
    "                \"quantity\": float,\n",
    "                \"Scale\": float,\n",
    "                \"cost\": float,\n",
    "                \"unitPrice\": float,\n",
    "                \"total\": float,\n",
    "                \"regPrice\": float,\n",
    "                'altPrice': float,\n",
    "                'tax': float, \n",
    "                \"taxexempt\": float,\n",
    "                \"foodstamp\": float,\n",
    "                \"wicable\": float,\n",
    "                \"discount\": float,\n",
    "                \"memDiscount\": float,\n",
    "                \"discountable\": float,\n",
    "                \"discounttype\": float,\n",
    "                \"voided\": float,\n",
    "                \"percentDiscount\": float,\n",
    "                \"ItemQtty\": float,\n",
    "                \"volDiscType\": float,\n",
    "                \"volume\": float,\n",
    "                \"VolSpecial\": float,\n",
    "                \"mixMatch\": float,\n",
    "                \"matched\": float,\n",
    "                \"memType\": bool,\n",
    "                \"staff\": bool,\n",
    "                \"numflag\": float,\n",
    "                \"itemstatus\": float,\n",
    "                \"tenderstatus\": float,\n",
    "                \"charflag\": str,\n",
    "                \"varflag\": float,\n",
    "                \"batchHeaderID\": bool,\n",
    "                \"local\": float,\n",
    "                \"organic\": bool,\n",
    "                \"display\": bool,\n",
    "                \"receipt\": float,\n",
    "                \"card_no\": float,\n",
    "                \"store\": float,\n",
    "                \"branch\": float,\n",
    "                \"match_id\": float,\n",
    "                \"trans_id\": float\n",
    "                }"
   ]
  },
  {
   "cell_type": "code",
   "execution_count": 21,
   "metadata": {},
   "outputs": [],
   "source": [
    "columns = ['datetime', 'register_no', 'emp_no', 'trans_no', 'upc', 'description',\n",
    "       'trans_type', 'trans_subtype', 'trans_status', 'department', 'quantity',\n",
    "       'Scale', 'cost', 'unitPrice', 'total', 'regPrice', 'altPrice', 'tax',\n",
    "       'taxexempt', 'foodstamp', 'wicable', 'discount', 'memDiscount',\n",
    "       'discountable', 'discounttype', 'voided', 'percentDiscount', 'ItemQtty',\n",
    "       'volDiscType', 'volume', 'VolSpecial', 'mixMatch', 'matched', 'memType',\n",
    "       'staff', 'numflag', 'itemstatus', 'tenderstatus', 'charflag', 'varflag',\n",
    "       'batchHeaderID', 'local', 'organic', 'display', 'receipt', 'card_no',\n",
    "       'store', 'branch', 'match_id', 'trans_id']"
   ]
  },
  {
   "cell_type": "code",
   "execution_count": 22,
   "metadata": {},
   "outputs": [],
   "source": [
    "zip_files = []\n",
    "path = os.getcwd()\n",
    "file_list = os.listdir(path+\"/wedge/WedgeZipOfZips\")\n",
    "for file_name in file_list:\n",
    "    if 'zip' in file_name:\n",
    "        zip_files.append(file_name)"
   ]
  },
  {
   "cell_type": "code",
   "execution_count": 23,
   "metadata": {},
   "outputs": [],
   "source": [
    "for file in no_headers:\n",
    "    if file in zip_files:\n",
    "        zip_files.remove(file)"
   ]
  },
  {
   "cell_type": "code",
   "execution_count": 24,
   "metadata": {},
   "outputs": [],
   "source": [
    "for file in one_column:\n",
    "    if file in zip_files:\n",
    "        zip_files.remove(file)"
   ]
  },
  {
   "cell_type": "code",
   "execution_count": 25,
   "metadata": {},
   "outputs": [],
   "source": [
    "file_names = [s.replace(\".zip\", \"\") for s in zip_files]"
   ]
  },
  {
   "cell_type": "code",
   "execution_count": 26,
   "metadata": {},
   "outputs": [],
   "source": [
    "file_names1 = [s.replace(\".zip\", \"\") for s in no_headers]"
   ]
  },
  {
   "cell_type": "code",
   "execution_count": 27,
   "metadata": {},
   "outputs": [],
   "source": [
    "file_names2 = [s.replace(\".zip\", \"\") for s in one_column]"
   ]
  },
  {
   "cell_type": "code",
   "execution_count": 28,
   "metadata": {},
   "outputs": [
    {
     "name": "stderr",
     "output_type": "stream",
     "text": [
      "/Users/liamhettinger/opt/anaconda3/lib/python3.8/site-packages/IPython/core/interactiveshell.py:3338: DtypeWarning: Columns (33) have mixed types.Specify dtype option on import or set low_memory=False.\n",
      "  if (await self.run_code(code, result,  async_=asy)):\n",
      "/Users/liamhettinger/opt/anaconda3/lib/python3.8/site-packages/IPython/core/interactiveshell.py:3338: DtypeWarning: Columns (33,43) have mixed types.Specify dtype option on import or set low_memory=False.\n",
      "  if (await self.run_code(code, result,  async_=asy)):\n",
      "/Users/liamhettinger/opt/anaconda3/lib/python3.8/site-packages/IPython/core/interactiveshell.py:3338: DtypeWarning: Columns (43) have mixed types.Specify dtype option on import or set low_memory=False.\n",
      "  if (await self.run_code(code, result,  async_=asy)):\n"
     ]
    }
   ],
   "source": [
    "list_of_df = [pd.read_csv(path + '/wedge/WedgeZipOfZips/' + file ,compression='zip') for file in zip_files]"
   ]
  },
  {
   "cell_type": "code",
   "execution_count": 15,
   "metadata": {},
   "outputs": [
    {
     "name": "stderr",
     "output_type": "stream",
     "text": [
      "/Users/liamhettinger/opt/anaconda3/lib/python3.8/site-packages/IPython/core/interactiveshell.py:3338: DtypeWarning: Columns (18,36,37,41,43,44,48) have mixed types.Specify dtype option on import or set low_memory=False.\n",
      "  if (await self.run_code(code, result,  async_=asy)):\n"
     ]
    }
   ],
   "source": [
    "list_of_df1 = [pd.read_csv(path + '/wedge/WedgeZipOfZips/' + file , names=columns, compression='zip') for file in no_headers]"
   ]
  },
  {
   "cell_type": "code",
   "execution_count": 9,
   "metadata": {},
   "outputs": [
    {
     "name": "stderr",
     "output_type": "stream",
     "text": [
      "/Users/liamhettinger/opt/anaconda3/lib/python3.8/site-packages/IPython/core/interactiveshell.py:3338: DtypeWarning: Columns (33,42) have mixed types.Specify dtype option on import or set low_memory=False.\n",
      "  if (await self.run_code(code, result,  async_=asy)):\n",
      "/Users/liamhettinger/opt/anaconda3/lib/python3.8/site-packages/IPython/core/interactiveshell.py:3338: DtypeWarning: Columns (42) have mixed types.Specify dtype option on import or set low_memory=False.\n",
      "  if (await self.run_code(code, result,  async_=asy)):\n",
      "/Users/liamhettinger/opt/anaconda3/lib/python3.8/site-packages/IPython/core/interactiveshell.py:3338: DtypeWarning: Columns (43) have mixed types.Specify dtype option on import or set low_memory=False.\n",
      "  if (await self.run_code(code, result,  async_=asy)):\n"
     ]
    }
   ],
   "source": [
    "list_of_df2 = [pd.read_csv(path + '/wedge/WedgeZipOfZips/' + file , names=columns, sep = ';', header=0, compression='zip') for file in one_column]"
   ]
  },
  {
   "cell_type": "markdown",
   "metadata": {},
   "source": [
    "# Cleaning"
   ]
  },
  {
   "cell_type": "code",
   "execution_count": 17,
   "metadata": {},
   "outputs": [],
   "source": [
    "import numpy as np\n",
    "replacedict = {'\\\\N': np.nan, 'nan' : np.nan, r'\\n': np.nan}\n",
    "for dataframes in list_of_df1:\n",
    "    tempdataframe = dataframes.astype(str)\n",
    "    dataframes.altPrice = tempdataframe.altPrice.replace(replacedict)\n",
    "    dataframes.taxexempt = tempdataframe.taxexempt.replace(replacedict)\n",
    "    dataframes.wicable = tempdataframe.wicable.replace(replacedict)\n",
    "    dataframes.percentDiscount = tempdataframe.percentDiscount.replace(replacedict)\n",
    "    dataframes.itemstatus = tempdataframe.itemstatus.replace(replacedict)\n",
    "    dataframes.tenderstatus = tempdataframe.tenderstatus.replace(replacedict)\n",
    "    dataframes.varflag = tempdataframe.varflag.replace(replacedict)\n",
    "    dataframes.local = tempdataframe.local.replace(replacedict)\n",
    "    dataframes.receipt = tempdataframe.receipt.replace(replacedict)\n",
    "    dataframes.match_id = tempdataframe.match_id.replace(replacedict)"
   ]
  },
  {
   "cell_type": "code",
   "execution_count": 29,
   "metadata": {},
   "outputs": [],
   "source": [
    "#I feel like there is a way to not use x \n",
    "x=0\n",
    "for dataframes in list_of_df:\n",
    "    list_of_df[x] = list_of_df[x].astype(converted_dic)\n",
    "    x = x + 1"
   ]
  },
  {
   "cell_type": "code",
   "execution_count": 19,
   "metadata": {},
   "outputs": [],
   "source": [
    "x=0\n",
    "for dataframes in list_of_df1:\n",
    "    list_of_df1[x] = list_of_df1[x].astype(converted_dic)\n",
    "    x = x + 1"
   ]
  },
  {
   "cell_type": "code",
   "execution_count": 10,
   "metadata": {},
   "outputs": [],
   "source": [
    "x=0\n",
    "for dataframes in list_of_df2:\n",
    "    list_of_df2[x] = list_of_df2[x].astype(converted_dic)\n",
    "    x = x + 1"
   ]
  },
  {
   "cell_type": "code",
   "execution_count": 30,
   "metadata": {},
   "outputs": [],
   "source": [
    "for dataframes in list_of_df:\n",
    "    dataframes.datetime = pd.to_datetime(dataframes.datetime)"
   ]
  },
  {
   "cell_type": "code",
   "execution_count": 22,
   "metadata": {},
   "outputs": [],
   "source": [
    "for dataframes in list_of_df1:\n",
    "    dataframes.datetime = pd.to_datetime(dataframes.datetime)"
   ]
  },
  {
   "cell_type": "code",
   "execution_count": 11,
   "metadata": {},
   "outputs": [],
   "source": [
    "for dataframes in list_of_df2:\n",
    "    dataframes.datetime = pd.to_datetime(dataframes.datetime)"
   ]
  },
  {
   "cell_type": "code",
   "execution_count": 31,
   "metadata": {},
   "outputs": [],
   "source": [
    "wedge_dict = dict(zip(file_names, list_of_df))"
   ]
  },
  {
   "cell_type": "code",
   "execution_count": 25,
   "metadata": {},
   "outputs": [],
   "source": [
    "wedge_dict1 = dict(zip(file_names1, list_of_df1))"
   ]
  },
  {
   "cell_type": "code",
   "execution_count": 12,
   "metadata": {},
   "outputs": [],
   "source": [
    "wedge_dict2 = dict(zip(file_names2, list_of_df2))"
   ]
  },
  {
   "cell_type": "markdown",
   "metadata": {},
   "source": [
    "# Loading data to GBQ"
   ]
  },
  {
   "cell_type": "code",
   "execution_count": 32,
   "metadata": {},
   "outputs": [],
   "source": [
    "from google.cloud import bigquery\n",
    "from google.oauth2 import service_account\n",
    "from pandas.io import gbq"
   ]
  },
  {
   "cell_type": "code",
   "execution_count": 33,
   "metadata": {},
   "outputs": [],
   "source": [
    "# These first two values will be different on your machine. \n",
    "service_path = \"/Users/liamhettinger/Documents/Fall_MSBA/Applied_Data_Analytics/wedge/\"\n",
    "service_file = 'fleet-geode-327423-3bd2c958746e.json' # change this to your authentication information  \n",
    "gbq_proj_id = 'fleet-geode-327423' # change this to your poroject. \n",
    "gbq_dataset_id = 'Wedge'\n",
    "\n",
    "# And this should stay the same. \n",
    "private_key = service_path + service_file"
   ]
  },
  {
   "cell_type": "code",
   "execution_count": 34,
   "metadata": {},
   "outputs": [],
   "source": [
    "credentials = service_account.Credentials.from_service_account_file(service_path + service_file)"
   ]
  },
  {
   "cell_type": "code",
   "execution_count": 35,
   "metadata": {},
   "outputs": [],
   "source": [
    "client = bigquery.Client(credentials = credentials, project=gbq_proj_id)"
   ]
  },
  {
   "cell_type": "code",
   "execution_count": 38,
   "metadata": {},
   "outputs": [
    {
     "data": {
      "text/plain": [
       "'transArchive_201210_201212'"
      ]
     },
     "execution_count": 38,
     "metadata": {},
     "output_type": "execute_result"
    }
   ],
   "source": [
    "file_names[1]"
   ]
  },
  {
   "cell_type": "code",
   "execution_count": 39,
   "metadata": {},
   "outputs": [
    {
     "data": {
      "text/plain": [
       "'transArchive_201201_201203'"
      ]
     },
     "execution_count": 39,
     "metadata": {},
     "output_type": "execute_result"
    }
   ],
   "source": [
    "file_names[2]"
   ]
  },
  {
   "cell_type": "code",
   "execution_count": 40,
   "metadata": {},
   "outputs": [
    {
     "data": {
      "text/plain": [
       "'transArchive_201204_201206'"
      ]
     },
     "execution_count": 40,
     "metadata": {},
     "output_type": "execute_result"
    }
   ],
   "source": [
    "file_names[3]"
   ]
  },
  {
   "cell_type": "code",
   "execution_count": 41,
   "metadata": {},
   "outputs": [
    {
     "data": {
      "text/plain": [
       "'transArchive_201407_201409'"
      ]
     },
     "execution_count": 41,
     "metadata": {},
     "output_type": "execute_result"
    }
   ],
   "source": [
    "file_names[4]"
   ]
  },
  {
   "cell_type": "code",
   "execution_count": 36,
   "metadata": {},
   "outputs": [
    {
     "name": "stderr",
     "output_type": "stream",
     "text": [
      "6it [16:22, 163.72s/it]\n"
     ]
    }
   ],
   "source": [
    "wedge_dict['transArchive_201301_201303'].to_gbq(destination_table= 'Wedge.transArchive_201301_201303',\n",
    "                                                          chunksize= 500000,\n",
    "                                                          project_id= gbq_proj_id,\n",
    "                                                          if_exists='replace')"
   ]
  },
  {
   "cell_type": "code",
   "execution_count": 42,
   "metadata": {},
   "outputs": [
    {
     "name": "stderr",
     "output_type": "stream",
     "text": [
      "6it [14:50, 148.36s/it]\n"
     ]
    }
   ],
   "source": [
    "wedge_dict['transArchive_201410_201412'].to_gbq(destination_table= 'Wedge.transArchive_201410_201412',\n",
    "                                                chunksize= 500000,\n",
    "                                                project_id= gbq_proj_id,\n",
    "                                                if_exists='replace')"
   ]
  },
  {
   "cell_type": "code",
   "execution_count": 46,
   "metadata": {},
   "outputs": [
    {
     "name": "stderr",
     "output_type": "stream",
     "text": [
      "6it [15:20, 153.34s/it]\n"
     ]
    }
   ],
   "source": [
    "wedge_dict['transArchive_201210_201212'].to_gbq(destination_table= 'Wedge.transArchive_201210_201212',\n",
    "                                                chunksize= 500000,\n",
    "                                               project_id= gbq_proj_id,\n",
    "                                               if_exists='replace')"
   ]
  },
  {
   "cell_type": "code",
   "execution_count": 47,
   "metadata": {},
   "outputs": [
    {
     "name": "stderr",
     "output_type": "stream",
     "text": [
      "6it [16:26, 164.49s/it]\n"
     ]
    }
   ],
   "source": [
    "wedge_dict['transArchive_201201_201203'].to_gbq(destination_table= 'Wedge.transArchive_201201_201203',\n",
    "                                               chunksize= 500000,\n",
    "                                               project_id= gbq_proj_id,\n",
    "                                               if_exists='replace')"
   ]
  },
  {
   "cell_type": "code",
   "execution_count": 25,
   "metadata": {},
   "outputs": [
    {
     "name": "stderr",
     "output_type": "stream",
     "text": [
      "7it [18:27, 158.26s/it]\n"
     ]
    }
   ],
   "source": [
    "wedge_dict['transArchive_201204_201206'].to_gbq(destination_table= 'Wedge.transArchive_201204_201206',\n",
    "                                               chunksize= 500000,\n",
    "                                               project_id= gbq_proj_id,\n",
    "                                               if_exists='replace')"
   ]
  },
  {
   "cell_type": "code",
   "execution_count": 49,
   "metadata": {},
   "outputs": [
    {
     "name": "stderr",
     "output_type": "stream",
     "text": [
      "7it [16:00, 137.26s/it]\n"
     ]
    }
   ],
   "source": [
    "wedge_dict['transArchive_201407_201409'].to_gbq(destination_table= 'Wedge.transArchive_201407_201409',\n",
    "                                               chunksize= 500000,\n",
    "                                               project_id= gbq_proj_id,\n",
    "                                               if_exists='replace')"
   ]
  },
  {
   "cell_type": "code",
   "execution_count": 50,
   "metadata": {},
   "outputs": [
    {
     "name": "stderr",
     "output_type": "stream",
     "text": [
      "6it [14:36, 146.05s/it]\n"
     ]
    }
   ],
   "source": [
    "wedge_dict['transArchive_201207_201209'].to_gbq(destination_table= 'Wedge.transArchive_201207_201209',\n",
    "                                               chunksize= 500000,\n",
    "                                               project_id= gbq_proj_id,\n",
    "                                               if_exists='replace')"
   ]
  },
  {
   "cell_type": "code",
   "execution_count": 51,
   "metadata": {},
   "outputs": [
    {
     "name": "stderr",
     "output_type": "stream",
     "text": [
      "7it [16:21, 140.18s/it]\n"
     ]
    }
   ],
   "source": [
    "wedge_dict['transArchive_201404_201406'].to_gbq(destination_table= 'Wedge.transArchive_201404_201406',\n",
    "                                               chunksize= 500000,\n",
    "                                               project_id= gbq_proj_id,\n",
    "                                               if_exists='replace')"
   ]
  },
  {
   "cell_type": "code",
   "execution_count": 52,
   "metadata": {},
   "outputs": [
    {
     "name": "stderr",
     "output_type": "stream",
     "text": [
      "6it [16:35, 165.95s/it]\n"
     ]
    }
   ],
   "source": [
    "wedge_dict['transArchive_201401_201403'].to_gbq(destination_table= 'Wedge.transArchive_201401_201403',\n",
    "                                               chunksize= 500000,\n",
    "                                               project_id= gbq_proj_id,\n",
    "                                               if_exists='replace')"
   ]
  },
  {
   "cell_type": "code",
   "execution_count": 53,
   "metadata": {},
   "outputs": [
    {
     "name": "stderr",
     "output_type": "stream",
     "text": [
      "6it [15:46, 157.73s/it]\n"
     ]
    }
   ],
   "source": [
    "wedge_dict['transArchive_201401_201403'].to_gbq(destination_table= 'Wedge.transArchive_201401_201403',\n",
    "                                               chunksize= 500000,\n",
    "                                               project_id= gbq_proj_id,\n",
    "                                               if_exists='replace')"
   ]
  },
  {
   "cell_type": "code",
   "execution_count": 54,
   "metadata": {},
   "outputs": [
    {
     "name": "stderr",
     "output_type": "stream",
     "text": [
      "7it [16:04, 137.73s/it]\n"
     ]
    }
   ],
   "source": [
    "wedge_dict['transArchive_201501_201503'].to_gbq(destination_table= 'Wedge.transArchive_201501_201503',\n",
    "                                               chunksize= 500000,\n",
    "                                               project_id= gbq_proj_id,\n",
    "                                               if_exists='replace')"
   ]
  },
  {
   "cell_type": "code",
   "execution_count": 55,
   "metadata": {},
   "outputs": [
    {
     "name": "stderr",
     "output_type": "stream",
     "text": [
      "6it [15:57, 159.56s/it]\n"
     ]
    }
   ],
   "source": [
    "wedge_dict['transArchive_201307_201309'].to_gbq(destination_table= 'Wedge.transArchive_201307_201309',\n",
    "                                               chunksize= 500000,\n",
    "                                               project_id= gbq_proj_id,\n",
    "                                               if_exists='replace')"
   ]
  },
  {
   "cell_type": "code",
   "execution_count": 56,
   "metadata": {},
   "outputs": [
    {
     "name": "stderr",
     "output_type": "stream",
     "text": [
      "7it [18:14, 156.33s/it]\n"
     ]
    }
   ],
   "source": [
    "wedge_dict['transArchive_201504_201506'].to_gbq(destination_table= 'Wedge.transArchive_201504_201506',\n",
    "                                               chunksize= 500000,\n",
    "                                               project_id= gbq_proj_id,\n",
    "                                               if_exists='replace')"
   ]
  },
  {
   "cell_type": "code",
   "execution_count": 57,
   "metadata": {},
   "outputs": [
    {
     "name": "stderr",
     "output_type": "stream",
     "text": [
      "7it [16:02, 137.51s/it]\n"
     ]
    }
   ],
   "source": [
    "wedge_dict['transArchive_201304_201306'].to_gbq(destination_table= 'Wedge.transArchive_201304_201306',\n",
    "                                               chunksize= 500000,\n",
    "                                               project_id= gbq_proj_id,\n",
    "                                               if_exists='replace')"
   ]
  },
  {
   "cell_type": "code",
   "execution_count": 58,
   "metadata": {},
   "outputs": [
    {
     "name": "stderr",
     "output_type": "stream",
     "text": [
      "7it [16:24, 140.65s/it]\n"
     ]
    }
   ],
   "source": [
    "wedge_dict['transArchive_201507_201509'].to_gbq(destination_table= 'Wedge.transArchive_201507_201509',\n",
    "                                               chunksize= 500000,\n",
    "                                               project_id= gbq_proj_id,\n",
    "                                               if_exists='replace')"
   ]
  },
  {
   "cell_type": "code",
   "execution_count": 59,
   "metadata": {},
   "outputs": [
    {
     "name": "stderr",
     "output_type": "stream",
     "text": [
      "7it [16:44, 143.55s/it]\n"
     ]
    }
   ],
   "source": [
    "wedge_dict['transArchive_201507_201509'].to_gbq(destination_table= 'Wedge.transArchive_201507_201509',\n",
    "                                               chunksize= 500000,\n",
    "                                               project_id= gbq_proj_id,\n",
    "                                               if_exists='replace')"
   ]
  },
  {
   "cell_type": "code",
   "execution_count": 60,
   "metadata": {},
   "outputs": [
    {
     "name": "stderr",
     "output_type": "stream",
     "text": [
      "6it [16:02, 160.46s/it]\n"
     ]
    }
   ],
   "source": [
    "wedge_dict['transArchive_201310_201312'].to_gbq(destination_table= 'Wedge.transArchive_201310_201312',\n",
    "                                               chunksize= 500000,\n",
    "                                               project_id= gbq_proj_id,\n",
    "                                               if_exists='replace')"
   ]
  },
  {
   "cell_type": "code",
   "execution_count": 61,
   "metadata": {},
   "outputs": [
    {
     "name": "stderr",
     "output_type": "stream",
     "text": [
      "2it [05:04, 152.32s/it]\n"
     ]
    }
   ],
   "source": [
    "wedge_dict['transArchive_201106'].to_gbq(destination_table= 'Wedge.transArchive_201106',\n",
    "                                               chunksize= 500000,\n",
    "                                               project_id= gbq_proj_id,\n",
    "                                               if_exists='replace')"
   ]
  },
  {
   "cell_type": "code",
   "execution_count": 62,
   "metadata": {},
   "outputs": [
    {
     "name": "stderr",
     "output_type": "stream",
     "text": [
      "7it [17:04, 146.30s/it]\n"
     ]
    }
   ],
   "source": [
    "wedge_dict['transArchive_201110_201112'].to_gbq(destination_table= 'Wedge.transArchive_201110_201112',\n",
    "                                               chunksize= 500000,\n",
    "                                               project_id= gbq_proj_id,\n",
    "                                               if_exists='replace')"
   ]
  },
  {
   "cell_type": "code",
   "execution_count": 63,
   "metadata": {},
   "outputs": [
    {
     "name": "stderr",
     "output_type": "stream",
     "text": [
      "3it [05:44, 114.71s/it]\n"
     ]
    }
   ],
   "source": [
    "wedge_dict['transArchive_201105'].to_gbq(destination_table= 'Wedge.transArchive_201105',\n",
    "                                         chunksize= 500000,\n",
    "                                         project_id= gbq_proj_id,\n",
    "                                         if_exists='replace')"
   ]
  },
  {
   "cell_type": "code",
   "execution_count": 64,
   "metadata": {},
   "outputs": [
    {
     "name": "stderr",
     "output_type": "stream",
     "text": [
      "3it [05:56, 118.80s/it]\n"
     ]
    }
   ],
   "source": [
    "wedge_dict['transArchive_201104'].to_gbq(destination_table= 'Wedge.transArchive_201104',\n",
    "                                         chunksize= 500000,\n",
    "                                         project_id= gbq_proj_id,\n",
    "                                         if_exists='replace')"
   ]
  },
  {
   "cell_type": "code",
   "execution_count": 65,
   "metadata": {},
   "outputs": [
    {
     "name": "stderr",
     "output_type": "stream",
     "text": [
      "3it [04:54, 98.16s/it]\n"
     ]
    }
   ],
   "source": [
    "wedge_dict['transArchive_201510'].to_gbq(destination_table= 'Wedge.transArchive_201510',\n",
    "                                         chunksize= 500000,\n",
    "                                         project_id= gbq_proj_id,\n",
    "                                         if_exists='replace')"
   ]
  },
  {
   "cell_type": "code",
   "execution_count": 66,
   "metadata": {},
   "outputs": [
    {
     "name": "stderr",
     "output_type": "stream",
     "text": [
      "6it [14:20, 143.35s/it]\n"
     ]
    }
   ],
   "source": [
    "wedge_dict['transArchive_201101_201103'].to_gbq(destination_table= 'Wedge.transArchive_201101_201103',\n",
    "                                                chunksize= 500000,\n",
    "                                                project_id= gbq_proj_id,\n",
    "                                                if_exists='replace')"
   ]
  },
  {
   "cell_type": "code",
   "execution_count": 67,
   "metadata": {},
   "outputs": [
    {
     "name": "stderr",
     "output_type": "stream",
     "text": [
      "7it [15:05, 129.37s/it]\n"
     ]
    }
   ],
   "source": [
    "wedge_dict['transArchive_201107_201109'].to_gbq(destination_table= 'Wedge.transArchive_201107_201109',\n",
    "                                                chunksize= 500000,\n",
    "                                                project_id= gbq_proj_id,\n",
    "                                                if_exists='replace')"
   ]
  },
  {
   "cell_type": "code",
   "execution_count": 68,
   "metadata": {},
   "outputs": [
    {
     "name": "stderr",
     "output_type": "stream",
     "text": [
      "6it [15:07, 151.21s/it]\n"
     ]
    }
   ],
   "source": [
    "wedge_dict['transArchive_201007_201009'].to_gbq(destination_table= 'Wedge.transArchive_201007_201009',\n",
    "                                                chunksize= 500000,\n",
    "                                                project_id= gbq_proj_id,\n",
    "                                                if_exists='replace')"
   ]
  },
  {
   "cell_type": "code",
   "execution_count": 69,
   "metadata": {},
   "outputs": [
    {
     "name": "stderr",
     "output_type": "stream",
     "text": [
      "6it [15:34, 155.77s/it]\n"
     ]
    }
   ],
   "source": [
    "wedge_dict['transArchive_201001_201003'].to_gbq(destination_table= 'Wedge.transArchive_201001_201003',\n",
    "                                                chunksize= 500000,\n",
    "                                                project_id= gbq_proj_id,\n",
    "                                                if_exists='replace')"
   ]
  },
  {
   "cell_type": "code",
   "execution_count": 70,
   "metadata": {},
   "outputs": [
    {
     "name": "stderr",
     "output_type": "stream",
     "text": [
      "7it [16:21, 140.21s/it]\n"
     ]
    }
   ],
   "source": [
    "wedge_dict['transArchive_201004_201006'].to_gbq(destination_table= 'Wedge.transArchive_201004_201006',\n",
    "                                                chunksize= 500000,\n",
    "                                                project_id= gbq_proj_id,\n",
    "                                                if_exists='replace')"
   ]
  },
  {
   "cell_type": "code",
   "execution_count": 71,
   "metadata": {},
   "outputs": [
    {
     "name": "stderr",
     "output_type": "stream",
     "text": [
      "6it [14:36, 146.09s/it]\n"
     ]
    }
   ],
   "source": [
    "wedge_dict['transArchive_201010_201012'].to_gbq(destination_table= 'Wedge.transArchive_201010_201012',\n",
    "                                                chunksize= 500000,\n",
    "                                                project_id= gbq_proj_id,\n",
    "                                                if_exists='replace')"
   ]
  },
  {
   "cell_type": "code",
   "execution_count": 72,
   "metadata": {},
   "outputs": [
    {
     "name": "stderr",
     "output_type": "stream",
     "text": [
      "2it [04:13, 126.57s/it]\n"
     ]
    }
   ],
   "source": [
    "wedge_dict1['transArchive_201609'].to_gbq(destination_table= 'Wedge.transArchive_201609',\n",
    "                                          chunksize= 500000,\n",
    "                                          project_id= gbq_proj_id,\n",
    "                                          if_exists='replace')"
   ]
  },
  {
   "cell_type": "code",
   "execution_count": 73,
   "metadata": {},
   "outputs": [
    {
     "name": "stderr",
     "output_type": "stream",
     "text": [
      "2it [04:08, 124.11s/it]\n"
     ]
    }
   ],
   "source": [
    "wedge_dict1['transArchive_201608'].to_gbq(destination_table= 'Wedge.transArchive_201608',\n",
    "                                         chunksize= 500000,\n",
    "                                          project_id= gbq_proj_id,\n",
    "                                          if_exists='replace')"
   ]
  },
  {
   "cell_type": "code",
   "execution_count": 74,
   "metadata": {},
   "outputs": [
    {
     "name": "stderr",
     "output_type": "stream",
     "text": [
      "2it [04:27, 133.92s/it]\n"
     ]
    }
   ],
   "source": [
    "wedge_dict1['transArchive_201701'].to_gbq(destination_table= 'Wedge.transArchive_201701',\n",
    "                                         chunksize= 500000,\n",
    "                                          project_id= gbq_proj_id,\n",
    "                                          if_exists='replace')"
   ]
  },
  {
   "cell_type": "code",
   "execution_count": 75,
   "metadata": {},
   "outputs": [
    {
     "name": "stderr",
     "output_type": "stream",
     "text": [
      "2it [04:41, 140.91s/it]\n"
     ]
    }
   ],
   "source": [
    "wedge_dict1['transArchive_201511'].to_gbq(destination_table= 'Wedge.transArchive_201511',\n",
    "                                         chunksize= 500000,\n",
    "                                          project_id= gbq_proj_id,\n",
    "                                          if_exists='replace')"
   ]
  },
  {
   "cell_type": "code",
   "execution_count": 76,
   "metadata": {},
   "outputs": [
    {
     "name": "stderr",
     "output_type": "stream",
     "text": [
      "2it [04:45, 142.57s/it]\n"
     ]
    }
   ],
   "source": [
    "wedge_dict1['transArchive_201512'].to_gbq(destination_table= 'Wedge.transArchive_201512',\n",
    "                                         chunksize= 500000,\n",
    "                                          project_id= gbq_proj_id,\n",
    "                                          if_exists='replace')"
   ]
  },
  {
   "cell_type": "code",
   "execution_count": 77,
   "metadata": {},
   "outputs": [
    {
     "name": "stderr",
     "output_type": "stream",
     "text": [
      "2it [04:29, 134.55s/it]\n"
     ]
    }
   ],
   "source": [
    "wedge_dict1['transArchive_201603'].to_gbq(destination_table= 'Wedge.transArchive_201603',\n",
    "                                         chunksize= 500000,\n",
    "                                          project_id= gbq_proj_id,\n",
    "                                          if_exists='replace')"
   ]
  },
  {
   "cell_type": "code",
   "execution_count": 78,
   "metadata": {},
   "outputs": [
    {
     "name": "stderr",
     "output_type": "stream",
     "text": [
      "2it [03:50, 115.30s/it]\n"
     ]
    }
   ],
   "source": [
    "wedge_dict1['transArchive_201602'].to_gbq(destination_table= 'Wedge.transArchive_201602',\n",
    "                                         chunksize= 500000,\n",
    "                                          project_id= gbq_proj_id,\n",
    "                                          if_exists='replace')"
   ]
  },
  {
   "cell_type": "code",
   "execution_count": 79,
   "metadata": {},
   "outputs": [
    {
     "name": "stderr",
     "output_type": "stream",
     "text": [
      "2it [05:05, 152.74s/it]\n"
     ]
    }
   ],
   "source": [
    "wedge_dict1['transArchive_201601'].to_gbq(destination_table= 'Wedge.transArchive_201601',\n",
    "                                         chunksize= 500000,\n",
    "                                          project_id= gbq_proj_id,\n",
    "                                          if_exists='replace')"
   ]
  },
  {
   "cell_type": "code",
   "execution_count": 80,
   "metadata": {},
   "outputs": [
    {
     "name": "stderr",
     "output_type": "stream",
     "text": [
      "2it [04:32, 136.17s/it]\n"
     ]
    }
   ],
   "source": [
    "wedge_dict1['transArchive_201605'].to_gbq(destination_table= 'Wedge.transArchive_201605',\n",
    "                                         chunksize= 500000,\n",
    "                                          project_id= gbq_proj_id,\n",
    "                                          if_exists='replace')"
   ]
  },
  {
   "cell_type": "code",
   "execution_count": 81,
   "metadata": {},
   "outputs": [
    {
     "name": "stderr",
     "output_type": "stream",
     "text": [
      "2it [04:46, 143.33s/it]\n"
     ]
    }
   ],
   "source": [
    "wedge_dict1['transArchive_201611'].to_gbq(destination_table= 'Wedge.transArchive_201611',\n",
    "                                         chunksize= 500000,\n",
    "                                          project_id= gbq_proj_id,\n",
    "                                          if_exists='replace')"
   ]
  },
  {
   "cell_type": "code",
   "execution_count": 82,
   "metadata": {},
   "outputs": [
    {
     "name": "stderr",
     "output_type": "stream",
     "text": [
      "2it [04:25, 132.96s/it]\n"
     ]
    }
   ],
   "source": [
    "wedge_dict1['transArchive_201610'].to_gbq(destination_table= 'Wedge.transArchive_201610',\n",
    "                                         chunksize= 500000,\n",
    "                                          project_id= gbq_proj_id,\n",
    "                                          if_exists='replace')"
   ]
  },
  {
   "cell_type": "code",
   "execution_count": 83,
   "metadata": {},
   "outputs": [
    {
     "name": "stderr",
     "output_type": "stream",
     "text": [
      "2it [04:32, 136.35s/it]\n"
     ]
    }
   ],
   "source": [
    "wedge_dict1['transArchive_201604'].to_gbq(destination_table= 'Wedge.transArchive_201604',\n",
    "                                         chunksize= 500000,\n",
    "                                          project_id= gbq_proj_id,\n",
    "                                          if_exists='replace')"
   ]
  },
  {
   "cell_type": "code",
   "execution_count": 84,
   "metadata": {},
   "outputs": [
    {
     "name": "stderr",
     "output_type": "stream",
     "text": [
      "2it [04:16, 128.30s/it]\n"
     ]
    }
   ],
   "source": [
    "wedge_dict1['transArchive_201612'].to_gbq(destination_table= 'Wedge.transArchive_201612',\n",
    "                                         chunksize= 500000,\n",
    "                                          project_id= gbq_proj_id,\n",
    "                                          if_exists='replace')"
   ]
  },
  {
   "cell_type": "code",
   "execution_count": 85,
   "metadata": {},
   "outputs": [
    {
     "name": "stderr",
     "output_type": "stream",
     "text": [
      "2it [04:58, 149.46s/it]\n"
     ]
    }
   ],
   "source": [
    "wedge_dict1['transArchive_201606'].to_gbq(destination_table= 'Wedge.transArchive_201606',\n",
    "                                         chunksize= 500000,\n",
    "                                          project_id= gbq_proj_id,\n",
    "                                          if_exists='replace')"
   ]
  },
  {
   "cell_type": "code",
   "execution_count": 86,
   "metadata": {},
   "outputs": [
    {
     "name": "stderr",
     "output_type": "stream",
     "text": [
      "2it [04:33, 136.50s/it]\n"
     ]
    }
   ],
   "source": [
    "wedge_dict1['transArchive_201607'].to_gbq(destination_table= 'Wedge.transArchive_201607',\n",
    "                                         chunksize= 500000,\n",
    "                                          project_id= gbq_proj_id,\n",
    "                                          if_exists='replace')"
   ]
  },
  {
   "cell_type": "code",
   "execution_count": 87,
   "metadata": {},
   "outputs": [
    {
     "name": "stderr",
     "output_type": "stream",
     "text": [
      "1it [00:48, 48.08s/it]\n"
     ]
    }
   ],
   "source": [
    "wedge_dict2['transArchive_201301_201303_inactive'].to_gbq(destination_table= 'Wedge.transArchive_201301_201303_inactive',\n",
    "                                                          chunksize= 500000,\n",
    "                                                          project_id= gbq_proj_id,\n",
    "                                                          if_exists='replace')"
   ]
  },
  {
   "cell_type": "code",
   "execution_count": 88,
   "metadata": {},
   "outputs": [
    {
     "name": "stderr",
     "output_type": "stream",
     "text": [
      "1it [00:18, 18.83s/it]\n"
     ]
    }
   ],
   "source": [
    "wedge_dict2['transArchive_201404_201406_inactive'].to_gbq(destination_table= 'Wedge.transArchive_201404_201406_inactive',\n",
    "                                                          chunksize= 500000,\n",
    "                                                          project_id= gbq_proj_id,\n",
    "                                                          if_exists='replace')"
   ]
  },
  {
   "cell_type": "code",
   "execution_count": 89,
   "metadata": {},
   "outputs": [
    {
     "name": "stderr",
     "output_type": "stream",
     "text": [
      "1it [00:50, 50.12s/it]\n"
     ]
    }
   ],
   "source": [
    "wedge_dict2['transArchive_201210_201212_inactive'].to_gbq(destination_table= 'Wedge.transArchive_201210_201212_inactive',\n",
    "                                                          chunksize= 500000,\n",
    "                                                          project_id= gbq_proj_id,\n",
    "                                                          if_exists='replace')"
   ]
  },
  {
   "cell_type": "code",
   "execution_count": 90,
   "metadata": {},
   "outputs": [
    {
     "name": "stderr",
     "output_type": "stream",
     "text": [
      "1it [00:34, 34.36s/it]\n"
     ]
    }
   ],
   "source": [
    "wedge_dict2['transArchive_201307_201309_inactive'].to_gbq(destination_table= 'Wedge.transArchive_201307_201309_inactive',\n",
    "                                                          chunksize= 500000,\n",
    "                                                          project_id= gbq_proj_id,\n",
    "                                                          if_exists='replace')"
   ]
  },
  {
   "cell_type": "code",
   "execution_count": 91,
   "metadata": {},
   "outputs": [
    {
     "name": "stderr",
     "output_type": "stream",
     "text": [
      "1it [01:14, 74.76s/it]\n"
     ]
    }
   ],
   "source": [
    "wedge_dict2['transArchive_201204_201206_inactive'].to_gbq(destination_table= 'Wedge.transArchive_201204_201206_inactive',\n",
    "                                                          chunksize= 500000,\n",
    "                                                          project_id= gbq_proj_id,\n",
    "                                                          if_exists='replace')"
   ]
  },
  {
   "cell_type": "code",
   "execution_count": 92,
   "metadata": {},
   "outputs": [
    {
     "name": "stderr",
     "output_type": "stream",
     "text": [
      "1it [00:08,  8.69s/it]\n"
     ]
    }
   ],
   "source": [
    "wedge_dict2['transArchive_201410_201412_inactive'].to_gbq(destination_table= 'Wedge.transArchive_201410_201412_inactive',\n",
    "                                                          chunksize= 500000,\n",
    "                                                          project_id= gbq_proj_id,\n",
    "                                                          if_exists='replace')"
   ]
  },
  {
   "cell_type": "code",
   "execution_count": 93,
   "metadata": {},
   "outputs": [
    {
     "name": "stderr",
     "output_type": "stream",
     "text": [
      "1it [00:27, 27.09s/it]\n"
     ]
    }
   ],
   "source": [
    "wedge_dict2['transArchive_201310_201312_inactive'].to_gbq(destination_table= 'Wedge.transArchive_201310_201312_inactive',\n",
    "                                                          chunksize= 500000,\n",
    "                                                          project_id= gbq_proj_id,\n",
    "                                                          if_exists='replace')"
   ]
  },
  {
   "cell_type": "code",
   "execution_count": 94,
   "metadata": {},
   "outputs": [
    {
     "name": "stderr",
     "output_type": "stream",
     "text": [
      "1it [01:11, 71.42s/it]\n"
     ]
    }
   ],
   "source": [
    "wedge_dict2['transArchive_201201_201203_inactive'].to_gbq(destination_table= 'Wedge.transArchive_201201_201203_inactive',\n",
    "                                                          chunksize= 500000,\n",
    "                                                          project_id= gbq_proj_id,\n",
    "                                                          if_exists='replace')"
   ]
  },
  {
   "cell_type": "code",
   "execution_count": 95,
   "metadata": {},
   "outputs": [
    {
     "name": "stderr",
     "output_type": "stream",
     "text": [
      "1it [00:15, 15.49s/it]\n"
     ]
    }
   ],
   "source": [
    "wedge_dict2['transArchive_201407_201409_inactive'].to_gbq(destination_table= 'Wedge.transArchive_201407_201409_inactive',\n",
    "                                                          chunksize= 500000,\n",
    "                                                          project_id= gbq_proj_id,\n",
    "                                                          if_exists='replace')"
   ]
  },
  {
   "cell_type": "code",
   "execution_count": 96,
   "metadata": {},
   "outputs": [
    {
     "name": "stderr",
     "output_type": "stream",
     "text": [
      "1it [00:44, 44.81s/it]\n"
     ]
    }
   ],
   "source": [
    "wedge_dict2['transArchive_201304_201306_inactive'].to_gbq(destination_table= 'Wedge.transArchive_201304_201306_inactive',\n",
    "                                                          chunksize= 500000,\n",
    "                                                          project_id= gbq_proj_id,\n",
    "                                                          if_exists='replace')"
   ]
  },
  {
   "cell_type": "code",
   "execution_count": 97,
   "metadata": {},
   "outputs": [
    {
     "name": "stderr",
     "output_type": "stream",
     "text": [
      "1it [00:57, 57.33s/it]\n"
     ]
    }
   ],
   "source": [
    "wedge_dict2['transArchive_201207_201209_inactive'].to_gbq(destination_table= 'Wedge.transArchive_201207_201209_inactive',\n",
    "                                                          chunksize= 500000,\n",
    "                                                          project_id= gbq_proj_id,\n",
    "                                                          if_exists='replace')"
   ]
  },
  {
   "cell_type": "code",
   "execution_count": 98,
   "metadata": {},
   "outputs": [
    {
     "name": "stderr",
     "output_type": "stream",
     "text": [
      "1it [00:18, 18.34s/it]\n"
     ]
    }
   ],
   "source": [
    "wedge_dict2['transArchive_201401_201403_inactive'].to_gbq(destination_table= 'Wedge.transArchive_201401_201403_inactive',\n",
    "                                                          chunksize= 500000,\n",
    "                                                          project_id= gbq_proj_id,\n",
    "                                                          if_exists='replace')"
   ]
  },
  {
   "cell_type": "code",
   "execution_count": null,
   "metadata": {},
   "outputs": [],
   "source": []
  }
 ],
 "metadata": {
  "kernelspec": {
   "display_name": "Python 3",
   "language": "python",
   "name": "python3"
  },
  "language_info": {
   "codemirror_mode": {
    "name": "ipython",
    "version": 3
   },
   "file_extension": ".py",
   "mimetype": "text/x-python",
   "name": "python",
   "nbconvert_exporter": "python",
   "pygments_lexer": "ipython3",
   "version": "3.8.5"
  }
 },
 "nbformat": 4,
 "nbformat_minor": 4
}
